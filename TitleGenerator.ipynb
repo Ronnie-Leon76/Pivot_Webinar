{
  "nbformat": 4,
  "nbformat_minor": 0,
  "metadata": {
    "colab": {
      "name": "TitleGenerator.ipynb",
      "provenance": [],
      "collapsed_sections": [],
      "authorship_tag": "ABX9TyPUoRoXOhdHCapQcx5qwEau",
      "include_colab_link": true
    },
    "kernelspec": {
      "name": "python3",
      "display_name": "Python 3"
    },
    "language_info": {
      "name": "python"
    }
  },
  "cells": [
    {
      "cell_type": "markdown",
      "metadata": {
        "id": "view-in-github",
        "colab_type": "text"
      },
      "source": [
        "<a href=\"https://colab.research.google.com/github/Ronnie-Leon76/Pivot_Webinar/blob/main/TitleGenerator.ipynb\" target=\"_parent\"><img src=\"https://colab.research.google.com/assets/colab-badge.svg\" alt=\"Open In Colab\"/></a>"
      ]
    },
    {
      "cell_type": "code",
      "execution_count": null,
      "metadata": {
        "id": "bm5atUz2dI9X"
      },
      "outputs": [],
      "source": [
        "import pandas as pd\n",
        "import string\n",
        "import numpy as np\n",
        "import json\n",
        "from keras.preprocessing.sequence import pad_sequences\n",
        "from keras.layers import Embedding, LSTM, Dense, Dropout\n",
        "from keras.preprocessing.text import Tokenizer\n",
        "from keras.callbacks import EarlyStopping\n",
        "from keras.models import Sequential\n",
        "from tensorflow.keras.utils import to_categorical\n",
        "import tensorflow as tf\n",
        "tf.random.set_seed(2)\n",
        "from numpy.random import seed\n",
        "seed(1)"
      ]
    },
    {
      "cell_type": "code",
      "source": [
        "from google.colab import drive\n",
        "drive.mount('/content/gdrive')"
      ],
      "metadata": {
        "colab": {
          "base_uri": "https://localhost:8080/"
        },
        "id": "RI0icn5qgNnk",
        "outputId": "224a98ed-5e93-45e1-ccdb-d3841ea9ed06"
      },
      "execution_count": null,
      "outputs": [
        {
          "output_type": "stream",
          "name": "stdout",
          "text": [
            "Mounted at /content/gdrive\n"
          ]
        }
      ]
    },
    {
      "cell_type": "code",
      "source": [
        "#load all the datasets \n",
        "USVideos_Path = '/content/gdrive/MyDrive/ColabNotebooks/TrendingYoutubeVideos/USvideos.csv'\n",
        "CAVideos_Path = '/content/gdrive/MyDrive/ColabNotebooks/TrendingYoutubeVideos/CAvideos.csv'\n",
        "GBVideos_Path = '/content/gdrive/MyDrive/ColabNotebooks/TrendingYoutubeVideos/GBvideos.csv'\n",
        "df1 = pd.read_csv(USVideos_Path)\n",
        "df2 = pd.read_csv(CAVideos_Path)\n",
        "df3 = pd.read_csv(GBVideos_Path)\n",
        "\n",
        "#load the datasets containing the category names\n",
        "US_category_id_path = '/content/gdrive/MyDrive/ColabNotebooks/TrendingYoutubeVideos/US_category_id.json'\n",
        "CA_category_id_path = '/content/gdrive/MyDrive/ColabNotebooks/TrendingYoutubeVideos/CA_category_id.json'\n",
        "GB_category_id_path = '/content/gdrive/MyDrive/ColabNotebooks/TrendingYoutubeVideos/GB_category_id.json'\n",
        "data1 = json.load(open(US_category_id_path))\n",
        "data2 = json.load(open(CA_category_id_path))\n",
        "data3 = json.load(open(GB_category_id_path))"
      ],
      "metadata": {
        "id": "5tkWQi_qe3Js"
      },
      "execution_count": null,
      "outputs": []
    },
    {
      "cell_type": "code",
      "source": [
        "def category_extractor(data):\n",
        "    i_d = [data['items'][i]['id'] for i in range(len(data['items']))]\n",
        "    title = [data['items'][i]['snippet'][\"title\"] for i in range(len(data['items']))]\n",
        "    i_d = list(map(int, i_d))\n",
        "    category = zip(i_d, title)\n",
        "    category = dict(category)\n",
        "    return category\n",
        "\n",
        "#create a new category column by mapping the category names to their id\n",
        "df1['category_title'] = df1['category_id'].map(category_extractor(data1))\n",
        "df2['category_title'] = df2['category_id'].map(category_extractor(data2))\n",
        "df3['category_title'] = df3['category_id'].map(category_extractor(data3))\n",
        "\n",
        "#join the dataframes\n",
        "df = pd.concat([df1, df2, df3], ignore_index=True)\n",
        "\n",
        "#drop rows based on duplicate videos\n",
        "df = df.drop_duplicates('video_id')\n",
        "\n",
        "education = df[df['category_title'] == 'Education']['title']\n",
        "education = education.tolist()"
      ],
      "metadata": {
        "id": "OCvtNIxYibcc"
      },
      "execution_count": null,
      "outputs": []
    },
    {
      "cell_type": "code",
      "source": [
        "def clean_text(text):\n",
        "    text = ''.join(e for e in text if e not in string.punctuation).lower()\n",
        "    \n",
        "    text = text.encode('utf8').decode('ascii', 'ignore')\n",
        "    return text\n",
        "\n",
        "corpus = [clean_text(e) for e in education]"
      ],
      "metadata": {
        "id": "WPdTojadlH75"
      },
      "execution_count": null,
      "outputs": []
    },
    {
      "cell_type": "code",
      "source": [
        "tokenizer = Tokenizer()\n",
        "def get_sequence_of_tokens(corpus):\n",
        "  #get tokens\n",
        "  tokenizer.fit_on_texts(corpus)\n",
        "  total_words = len(tokenizer.word_index) + 1\n",
        " \n",
        "  #convert to sequence of tokens\n",
        "  input_sequences = []\n",
        "  for line in corpus:\n",
        "    token_list = tokenizer.texts_to_sequences([line])[0]\n",
        "  for i in range(1, len(token_list)):\n",
        "    n_gram_sequence = token_list[:i+1]\n",
        "    input_sequences.append(n_gram_sequence)\n",
        " \n",
        "  return input_sequences, total_words\n",
        "inp_sequences, total_words = get_sequence_of_tokens(corpus)"
      ],
      "metadata": {
        "id": "_10J5IEZmGtw"
      },
      "execution_count": null,
      "outputs": []
    },
    {
      "cell_type": "code",
      "source": [
        "def generate_padded_sequences(input_sequences):\n",
        "  max_sequence_len = max([len(x) for x in input_sequences])\n",
        "  input_sequences = np.array(pad_sequences(input_sequences,  maxlen=max_sequence_len, padding= 'pre'))\n",
        "  predictors, label = input_sequences[:,:-1], input_sequences[:, -1]\n",
        "  label = to_categorical(label, num_classes = total_words)\n",
        "  return predictors, label, max_sequence_len\n",
        "predictors, label, max_sequence_len = generate_padded_sequences(inp_sequences)"
      ],
      "metadata": {
        "id": "LtJCAQnpon4Y"
      },
      "execution_count": null,
      "outputs": []
    },
    {
      "cell_type": "code",
      "source": [
        "def create_model(max_sequence_len, total_words):\n",
        "  input_len = max_sequence_len - 1\n",
        "  model = Sequential()\n",
        " \n",
        "  # Add Input Embedding Layer\n",
        "  model.add(Embedding(total_words, 10, input_length=input_len))\n",
        " \n",
        "  # Add Hidden Layer 1 — LSTM Layer\n",
        "  model.add(LSTM(100))\n",
        "  model.add(Dropout(0.1))\n",
        " \n",
        "  # Add Output Layer\n",
        "  model.add(Dense(total_words, activation= 'softmax'))\n",
        "  model.compile(loss='categorical_crossentropy', optimizer='adam')\n",
        " \n",
        "  return model\n",
        "model = create_model(max_sequence_len, total_words)\n",
        "model.fit(predictors, label, epochs=20, verbose=5)"
      ],
      "metadata": {
        "id": "8L3DPi5Sr4F_",
        "colab": {
          "base_uri": "https://localhost:8080/"
        },
        "outputId": "c932c9c5-a77f-494d-9184-c86d789417ed"
      },
      "execution_count": 16,
      "outputs": [
        {
          "output_type": "stream",
          "name": "stdout",
          "text": [
            "Epoch 1/20\n",
            "Epoch 2/20\n",
            "Epoch 3/20\n",
            "Epoch 4/20\n",
            "Epoch 5/20\n",
            "Epoch 6/20\n",
            "Epoch 7/20\n",
            "Epoch 8/20\n",
            "Epoch 9/20\n",
            "Epoch 10/20\n",
            "Epoch 11/20\n",
            "Epoch 12/20\n",
            "Epoch 13/20\n",
            "Epoch 14/20\n",
            "Epoch 15/20\n",
            "Epoch 16/20\n",
            "Epoch 17/20\n",
            "Epoch 18/20\n",
            "Epoch 19/20\n",
            "Epoch 20/20\n"
          ]
        },
        {
          "output_type": "execute_result",
          "data": {
            "text/plain": [
              "<keras.callbacks.History at 0x7f9857d05c10>"
            ]
          },
          "metadata": {},
          "execution_count": 16
        }
      ]
    },
    {
      "cell_type": "code",
      "source": [
        "def generate_text(seed_text, next_words, model, max_sequence_len):\n",
        "  for _ in range(next_words):\n",
        "    token_list = tokenizer.texts_to_sequences([seed_text])[0]\n",
        "    token_list = pad_sequences([token_list], maxlen=max_sequence_len-1,  padding='pre')\n",
        "    predicted = model.predict(token_list, verbose=0)\n",
        " \n",
        "  output_word = ''\n",
        "  for word,index in tokenizer.word_index.items():\n",
        "    if index == predicted.all():\n",
        "      output_word = word\n",
        "    break\n",
        "    seed_text += ''+output_word\n",
        "  return seed_text.title()"
      ],
      "metadata": {
        "id": "nnYojpq0sab7"
      },
      "execution_count": 26,
      "outputs": []
    },
    {
      "cell_type": "code",
      "source": [
        "print(generate_text(\"HAPPY\", 5, model, max_sequence_len))"
      ],
      "metadata": {
        "colab": {
          "base_uri": "https://localhost:8080/"
        },
        "id": "JhKgpNnZtQFm",
        "outputId": "8a0b8e16-0133-4c7e-c3a5-d778ad634ecf"
      },
      "execution_count": 35,
      "outputs": [
        {
          "output_type": "stream",
          "name": "stdout",
          "text": [
            "Happy\n"
          ]
        }
      ]
    }
  ]
}